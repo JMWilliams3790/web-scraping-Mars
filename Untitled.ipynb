{
 "cells": [
  {
   "cell_type": "code",
   "execution_count": 83,
   "metadata": {},
   "outputs": [],
   "source": [
    "#Perform Imports\n",
    "from splinter import Browser\n",
    "from bs4 import BeautifulSoup as bs\n",
    "import time\n",
    "from pprint import pprint"
   ]
  },
  {
   "cell_type": "code",
   "execution_count": 84,
   "metadata": {},
   "outputs": [],
   "source": [
    "def init_browser():\n",
    "    executable_path = {\"executable_path\": \"C:/Users/JMWil/Desktop/Bootcamp/chromedriver\"}\n",
    "    return Browser(\"chrome\", **executable_path, headless=False)\n"
   ]
  },
  {
   "cell_type": "code",
   "execution_count": 85,
   "metadata": {},
   "outputs": [],
   "source": [
    "######################\n",
    "#Scrape the news page#\n",
    "######################\n",
    "def scrape_news():\n",
    "    browser = init_browser()\n",
    "\n",
    "    # Visit Nasa Mars News Page\n",
    "    url = \"https://mars.nasa.gov/news/\"\n",
    "    browser.visit(url)\n",
    "\n",
    "    time.sleep(1)\n",
    "\n",
    "    # Scrape page into Soup\n",
    "    html = browser.html\n",
    "    soup = bs(html, \"html.parser\")\n",
    "\n",
    "    # Walk down the HTML tree\n",
    "    first_t = soup.find('ul', class_='item_list')\n",
    "    second_t = first_t.find('li', class_='slide')\n",
    "    third_t = second_t.find('div', class_='content_title').get_text()\n",
    "    paragraph = second_t.find('div', class_='article_teaser_body').get_text()\n",
    "\n",
    "    # Store data in a dictionary\n",
    "    mars_news = {\n",
    "        \"news_t\": third_t,\n",
    "        \"news_p\": paragraph\n",
    "    }\n",
    "\n",
    "    # Close the browser after scraping\n",
    "    browser.quit()\n",
    "\n",
    "    # Return results\n",
    "    return mars_news\n"
   ]
  },
  {
   "cell_type": "code",
   "execution_count": 86,
   "metadata": {},
   "outputs": [],
   "source": [
    "mars_info=scrape_news()"
   ]
  },
  {
   "cell_type": "code",
   "execution_count": 87,
   "metadata": {},
   "outputs": [
    {
     "name": "stdout",
     "output_type": "stream",
     "text": [
      "{'news_p': 'Bill Allen has thrived as the mechanical systems design lead for '\n",
      "           'three Mars rover missions, but he got his start as a teenager '\n",
      "           'sorting letters for the NASA center.',\n",
      " 'news_t': \"From JPL's Mailroom to Mars and Beyond\"}\n"
     ]
    }
   ],
   "source": [
    "pprint(mars_info)"
   ]
  },
  {
   "cell_type": "code",
   "execution_count": null,
   "metadata": {},
   "outputs": [],
   "source": [
    "###########################\n",
    "#Scrape the featured image#\n",
    "###########################\n",
    "def scrape_news():\n",
    "    browser = init_browser()\n",
    "\n",
    "    # Visit Nasa Mars News Page\n",
    "    url = \"https://mars.nasa.gov/news/\"\n",
    "    browser.visit(url)\n",
    "\n",
    "    time.sleep(1)\n",
    "\n",
    "    # Scrape page into Soup\n",
    "    html = browser.html\n",
    "    soup = bs(html, \"html.parser\")\n",
    "\n",
    "    # Walk down the HTML tree\n",
    "    first_t = soup.find('ul', class_='item_list')\n",
    "    second_t = first_t.find('li', class_='slide')\n",
    "    third_t = second_t.find('div', class_='content_title').get_text()\n",
    "    paragraph = second_t.find('div', class_='article_teaser_body').get_text()\n",
    "\n",
    "    # Store data in a dictionary\n",
    "    mars_news = {\n",
    "        \"news_t\": third_t,\n",
    "        \"news_p\": paragraph\n",
    "    }\n",
    "\n",
    "    # Close the browser after scraping\n",
    "    browser.quit()\n",
    "\n",
    "    # Return results\n",
    "    return mars_news\n"
   ]
  }
 ],
 "metadata": {
  "kernelspec": {
   "display_name": "Python 3",
   "language": "python",
   "name": "python3"
  },
  "language_info": {
   "codemirror_mode": {
    "name": "ipython",
    "version": 3
   },
   "file_extension": ".py",
   "mimetype": "text/x-python",
   "name": "python",
   "nbconvert_exporter": "python",
   "pygments_lexer": "ipython3",
   "version": "3.6.10"
  }
 },
 "nbformat": 4,
 "nbformat_minor": 4
}
