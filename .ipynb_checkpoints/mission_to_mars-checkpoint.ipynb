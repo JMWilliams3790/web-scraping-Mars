{
 "cells": [
  {
   "cell_type": "code",
   "execution_count": 1,
   "metadata": {},
   "outputs": [],
   "source": [
    "#Perform Imports\n",
    "from splinter import Browser\n",
    "from bs4 import BeautifulSoup as bs\n",
    "import time\n",
    "from pprint import pprint\n",
    "import pandas as pd"
   ]
  },
  {
   "cell_type": "code",
   "execution_count": 2,
   "metadata": {},
   "outputs": [],
   "source": [
    "def init_browser():\n",
    "    executable_path = {\"executable_path\": \"C:/Users/JMWil/Desktop/Bootcamp/chromedriver\"}\n",
    "    return Browser(\"chrome\", **executable_path, headless=False)\n"
   ]
  },
  {
   "cell_type": "code",
   "execution_count": 3,
   "metadata": {},
   "outputs": [],
   "source": [
    "######################\n",
    "#Scrape the news page#\n",
    "######################\n",
    "def scrape_news():\n",
    "    browser = init_browser()\n",
    "\n",
    "    # Visit Nasa Mars News Page\n",
    "    url = \"https://mars.nasa.gov/news/\"\n",
    "    browser.visit(url)\n",
    "\n",
    "    time.sleep(1)\n",
    "\n",
    "    # Scrape page into Soup\n",
    "    html = browser.html\n",
    "    soup = bs(html, \"html.parser\")\n",
    "\n",
    "    # Walk down the HTML tree\n",
    "    first_t = soup.find('ul', class_='item_list')\n",
    "    second_t = first_t.find('li', class_='slide')\n",
    "    third_t = second_t.find('div', class_='content_title').get_text()\n",
    "    paragraph = second_t.find('div', class_='article_teaser_body').get_text()\n",
    "\n",
    "    # Store data in a dictionary\n",
    "    mars_news = {\n",
    "        \"news_t\": third_t,\n",
    "        \"news_p\": paragraph\n",
    "    }\n",
    "\n",
    "    # Close the browser after scraping\n",
    "    browser.quit()\n",
    "\n",
    "    # Return results\n",
    "    return mars_news\n"
   ]
  },
  {
   "cell_type": "code",
   "execution_count": 4,
   "metadata": {},
   "outputs": [],
   "source": [
    "mars_info=scrape_news()"
   ]
  },
  {
   "cell_type": "code",
   "execution_count": 5,
   "metadata": {},
   "outputs": [
    {
     "name": "stdout",
     "output_type": "stream",
     "text": [
      "{'news_p': 'During this next phase, the program will mature critical '\n",
      "           'technologies and make critical design decisions as well as assess '\n",
      "           'industry partnerships.',\n",
      " 'news_t': 'NASA Moves Forward With Campaign to Return Mars Samples to Earth'}\n"
     ]
    }
   ],
   "source": [
    "pprint(mars_info)"
   ]
  },
  {
   "cell_type": "code",
   "execution_count": 6,
   "metadata": {},
   "outputs": [],
   "source": [
    "###########################\n",
    "#Scrape the featured image#\n",
    "###########################\n",
    "def scrape_image():\n",
    "    browser = init_browser()\n",
    "\n",
    "    # Visit Nasa Mars News Page\n",
    "    url = \"https://www.jpl.nasa.gov/spaceimages/?search=&category=Mars\"\n",
    "    browser.visit(url)\n",
    "\n",
    "    time.sleep(1)\n",
    "\n",
    "    # Scrape page into Soup\n",
    "    html = browser.html\n",
    "    soup = bs(html, \"html.parser\")\n",
    "\n",
    "    # Walk down the HTML tree\n",
    "    first_i = soup.find('div', id=\"main_container\")\n",
    "    second_i = first_i.find('article')\n",
    "    featured_image_url = f\"\"\"{second_i[\"style\"]}\"\"\"\n",
    "    print(featured_image_url)\n",
    "\n",
    "    \n",
    "\n",
    "    # Close the browser after scraping\n",
    "    browser.quit()\n",
    "\n",
    "    # Return results\n",
    "    return mars_news"
   ]
  },
  {
   "cell_type": "code",
   "execution_count": 7,
   "metadata": {},
   "outputs": [
    {
     "name": "stdout",
     "output_type": "stream",
     "text": [
      "background-image: url('/spaceimages/images/wallpaper/PIA17832-1920x1200.jpg');\n"
     ]
    }
   ],
   "source": [
    "#You NEED to call the function to print ANYTHING!!!\n",
    "scrape_image()"
   ]
  },
  {
   "cell_type": "code",
   "execution_count": 12,
   "metadata": {},
   "outputs": [],
   "source": [
    "#######################\n",
    "#Scrape the Mars facts#\n",
    "#######################\n",
    "def scrape_table():\n",
    "     # Visit Nasa Mars Facts Page\n",
    "    url = \"https://space-facts.com/mars/\"\n",
    "\n",
    "    tables = pd.read_html(url)\n",
    "    \n",
    "    tables_df = tables[0]\n",
    "\n",
    "    # Walk down the HTML tree\n",
    "    #first_t = soup.find('div', class_='textwidget')[1]\n",
    "    #first_t = soup.find('table')\n",
    "    #first_t = pd.read_html('table')\n",
    "   \n",
    "    print(tables_df)\n",
    "    \n",
    "    # Store data in a dictionary\n",
    "#     mars_news = {\n",
    "#         \"news_t\": third_t,\n",
    "#         \"news_p\": paragraph\n",
    "#     }\n",
    "\n",
    "    # Close the browser after scraping\n",
    "\n",
    "\n",
    "    # Return results\n",
    "    return tables_df.to_html()"
   ]
  },
  {
   "cell_type": "code",
   "execution_count": 13,
   "metadata": {},
   "outputs": [
    {
     "name": "stdout",
     "output_type": "stream",
     "text": [
      "                      0                              1\n",
      "0  Equatorial Diameter:                       6,792 km\n",
      "1       Polar Diameter:                       6,752 km\n",
      "2                 Mass:  6.39 × 10^23 kg (0.11 Earths)\n",
      "3                Moons:            2 (Phobos & Deimos)\n",
      "4       Orbit Distance:       227,943,824 km (1.38 AU)\n",
      "5         Orbit Period:           687 days (1.9 years)\n",
      "6  Surface Temperature:                   -87 to -5 °C\n",
      "7         First Record:              2nd millennium BC\n",
      "8          Recorded By:           Egyptian astronomers\n"
     ]
    },
    {
     "data": {
      "text/plain": [
       "'<table border=\"1\" class=\"dataframe\">\\n  <thead>\\n    <tr style=\"text-align: right;\">\\n      <th></th>\\n      <th>0</th>\\n      <th>1</th>\\n    </tr>\\n  </thead>\\n  <tbody>\\n    <tr>\\n      <th>0</th>\\n      <td>Equatorial Diameter:</td>\\n      <td>6,792 km</td>\\n    </tr>\\n    <tr>\\n      <th>1</th>\\n      <td>Polar Diameter:</td>\\n      <td>6,752 km</td>\\n    </tr>\\n    <tr>\\n      <th>2</th>\\n      <td>Mass:</td>\\n      <td>6.39 × 10^23 kg (0.11 Earths)</td>\\n    </tr>\\n    <tr>\\n      <th>3</th>\\n      <td>Moons:</td>\\n      <td>2 (Phobos &amp; Deimos)</td>\\n    </tr>\\n    <tr>\\n      <th>4</th>\\n      <td>Orbit Distance:</td>\\n      <td>227,943,824 km (1.38 AU)</td>\\n    </tr>\\n    <tr>\\n      <th>5</th>\\n      <td>Orbit Period:</td>\\n      <td>687 days (1.9 years)</td>\\n    </tr>\\n    <tr>\\n      <th>6</th>\\n      <td>Surface Temperature:</td>\\n      <td>-87 to -5 °C</td>\\n    </tr>\\n    <tr>\\n      <th>7</th>\\n      <td>First Record:</td>\\n      <td>2nd millennium BC</td>\\n    </tr>\\n    <tr>\\n      <th>8</th>\\n      <td>Recorded By:</td>\\n      <td>Egyptian astronomers</td>\\n    </tr>\\n  </tbody>\\n</table>'"
      ]
     },
     "execution_count": 13,
     "metadata": {},
     "output_type": "execute_result"
    }
   ],
   "source": [
    "scrape_table()"
   ]
  },
  {
   "cell_type": "code",
   "execution_count": null,
   "metadata": {},
   "outputs": [],
   "source": [
    "##################################\n",
    "#Scrape the hemisphere image page#\n",
    "##################################\n",
    "def scrape_hemi():\n",
    "    browser = init_browser()\n",
    "\n",
    "    # Visit Nasa Mars News Page\n",
    "    url = \"https://astrogeology.usgs.gov/search/results?q=hemisphere+enhanced&k1=target&v1=Mars\"\n",
    "    browser.visit(url)\n",
    "\n",
    "    time.sleep(1)\n",
    "\n",
    "    # Scrape page into Soup\n",
    "    html = browser.html\n",
    "    soup = bs(html, \"html.parser\")\n",
    "\n",
    "    \n",
    "    hemisphere_list =[\"Cerberus Hemisphere Enhanced\",\n",
    "        \"Schiaparelli Hemisphere Enhanced\",\n",
    "        \"Syrtis Major Hemisphere Enhanced\",\n",
    "        \"Valles Marineris Hemisphere Enhanced\"\n",
    "    ]\n",
    "    \n",
    "    for hemisphere in hemisphere_list:\n",
    "        browser.click_link_by_text(hemisphere)\n",
    "        \n",
    "        time.sleep(1)\n",
    "        \n",
    "        # Scrape page into Soup\n",
    "        html = browser.html\n",
    "        soup = bs(html, \"html.parser\")\n",
    "        title = soup.find('h2').get_text()\n",
    "        \n",
    "\n",
    "    # Store data in a dictionary\n",
    "#     mars_news = {\n",
    "#         \"news_t\": third_t,\n",
    "#         \"news_p\": paragraph\n",
    "#     }\n",
    "\n",
    "    # Close the browser after scraping\n",
    "    browser.quit()\n",
    "\n",
    "    # Return results\n",
    "    return mars_hemi\n"
   ]
  },
  {
   "cell_type": "code",
   "execution_count": 34,
   "metadata": {},
   "outputs": [],
   "source": [
    "######################\n",
    "#Scrape the news page#\n",
    "######################\n",
    "def explore_hemi():\n",
    "    browser = init_browser()\n",
    "\n",
    "    # Visit Nasa Mars News Page\n",
    "    url = \"https://astrogeology.usgs.gov/search/map/Mars/Viking/valles_marineris_enhanced\"\n",
    "    browser.visit(url)\n",
    "\n",
    "    time.sleep(1)\n",
    "\n",
    "    # Scrape page into Soup\n",
    "    html = browser.html\n",
    "    soup = bs(html, \"html.parser\")\n",
    "\n",
    "    # Walk down the HTML tree\n",
    "    title = soup.find('h2').get_text()\n",
    "\n",
    "\n",
    "    # Store data in a dictionary\n",
    "\n",
    "\n",
    "    # Close the browser after scraping\n",
    "    browser.quit()\n",
    "\n",
    "    # Return results\n",
    "    return title\n"
   ]
  },
  {
   "cell_type": "code",
   "execution_count": 35,
   "metadata": {},
   "outputs": [
    {
     "data": {
      "text/plain": [
       "'Valles Marineris Hemisphere Enhanced'"
      ]
     },
     "execution_count": 35,
     "metadata": {},
     "output_type": "execute_result"
    }
   ],
   "source": [
    "explore_hemi()"
   ]
  },
  {
   "cell_type": "code",
   "execution_count": null,
   "metadata": {},
   "outputs": [],
   "source": []
  }
 ],
 "metadata": {
  "kernelspec": {
   "display_name": "Python 3",
   "language": "python",
   "name": "python3"
  },
  "language_info": {
   "codemirror_mode": {
    "name": "ipython",
    "version": 3
   },
   "file_extension": ".py",
   "mimetype": "text/x-python",
   "name": "python",
   "nbconvert_exporter": "python",
   "pygments_lexer": "ipython3",
   "version": "3.6.10"
  }
 },
 "nbformat": 4,
 "nbformat_minor": 4
}
