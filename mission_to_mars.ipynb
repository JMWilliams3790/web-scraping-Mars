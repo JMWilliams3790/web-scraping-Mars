{
 "cells": [
  {
   "cell_type": "code",
   "execution_count": 1,
   "metadata": {},
   "outputs": [],
   "source": [
    "#Perform Imports\n",
    "from splinter import Browser\n",
    "from bs4 import BeautifulSoup as bs\n",
    "import time\n",
    "from pprint import pprint\n",
    "import pandas as pd"
   ]
  },
  {
   "cell_type": "code",
   "execution_count": 2,
   "metadata": {},
   "outputs": [],
   "source": [
    "def init_browser():\n",
    "    executable_path = {\"executable_path\": \"C:/Users/JMWil/Desktop/Bootcamp/chromedriver\"}\n",
    "    return Browser(\"chrome\", **executable_path, headless=False)\n"
   ]
  },
  {
   "cell_type": "code",
   "execution_count": 3,
   "metadata": {},
   "outputs": [],
   "source": [
    "######################\n",
    "#Scrape the news page#\n",
    "######################\n",
    "def scrape_news():\n",
    "    browser = init_browser()\n",
    "\n",
    "    # Visit Nasa Mars News Page\n",
    "    url = \"https://mars.nasa.gov/news/\"\n",
    "    browser.visit(url)\n",
    "\n",
    "    time.sleep(1)\n",
    "\n",
    "    # Scrape page into Soup\n",
    "    html = browser.html\n",
    "    soup = bs(html, \"html.parser\")\n",
    "\n",
    "    # Walk down the HTML tree\n",
    "    first_t = soup.find('ul', class_='item_list')\n",
    "    second_t = first_t.find('li', class_='slide')\n",
    "    third_t = second_t.find('div', class_='content_title').get_text()\n",
    "    paragraph = second_t.find('div', class_='article_teaser_body').get_text()\n",
    "\n",
    "    # Store data in a dictionary\n",
    "    mars_news = {\n",
    "        \"news_t\": third_t,\n",
    "        \"news_p\": paragraph\n",
    "    }\n",
    "\n",
    "    # Close the browser after scraping\n",
    "    browser.quit()\n",
    "\n",
    "    # Return results\n",
    "    return mars_news\n"
   ]
  },
  {
   "cell_type": "code",
   "execution_count": 4,
   "metadata": {},
   "outputs": [],
   "source": [
    "mars_info=scrape_news()"
   ]
  },
  {
   "cell_type": "code",
   "execution_count": 5,
   "metadata": {},
   "outputs": [
    {
     "name": "stdout",
     "output_type": "stream",
     "text": [
      "{'news_p': 'During this next phase, the program will mature critical '\n",
      "           'technologies and make critical design decisions as well as assess '\n",
      "           'industry partnerships.',\n",
      " 'news_t': 'NASA Moves Forward With Campaign to Return Mars Samples to Earth'}\n"
     ]
    }
   ],
   "source": [
    "pprint(mars_info)"
   ]
  },
  {
   "cell_type": "code",
   "execution_count": 6,
   "metadata": {},
   "outputs": [],
   "source": [
    "###########################\n",
    "#Scrape the featured image#\n",
    "###########################\n",
    "def scrape_image():\n",
    "    browser = init_browser()\n",
    "\n",
    "    # Visit Nasa Mars News Page\n",
    "    url = \"https://www.jpl.nasa.gov/spaceimages/?search=&category=Mars\"\n",
    "    browser.visit(url)\n",
    "\n",
    "    time.sleep(1)\n",
    "\n",
    "    # Scrape page into Soup\n",
    "    html = browser.html\n",
    "    soup = bs(html, \"html.parser\")\n",
    "\n",
    "    # Walk down the HTML tree\n",
    "    first_i = soup.find('div', id=\"main_container\")\n",
    "    second_i = first_i.find('article')\n",
    "    featured_image_url = f\"\"\"{second_i[\"style\"]}\"\"\"\n",
    "    print(featured_image_url)\n",
    "\n",
    "    \n",
    "    #Store data in a dictionary\n",
    "    mars_news = dict.update({\n",
    "        \"featured_image_url\": featured_image_url,\n",
    "    })\n",
    "\n",
    "    # Close the browser after scraping\n",
    "    browser.quit()\n",
    "\n",
    "    # Return results\n",
    "    return mars_news"
   ]
  },
  {
   "cell_type": "code",
   "execution_count": 7,
   "metadata": {},
   "outputs": [
    {
     "name": "stdout",
     "output_type": "stream",
     "text": [
      "background-image: url('/spaceimages/images/wallpaper/PIA17564-1920x1200.jpg');\n"
     ]
    }
   ],
   "source": [
    "#You NEED to call the function to print ANYTHING!!!\n",
    "scrape_image()"
   ]
  },
  {
   "cell_type": "code",
   "execution_count": 71,
   "metadata": {},
   "outputs": [],
   "source": [
    "#######################\n",
    "#Scrape the Mars facts#\n",
    "#######################\n",
    "def scrape_table():\n",
    "     # Visit Nasa Mars Facts Page\n",
    "    url = \"https://space-facts.com/mars/\"\n",
    "\n",
    "    tables = pd.read_html(url)\n",
    "    \n",
    "    tables_df = tables[0]\n",
    "\n",
    "    # Walk down the HTML tree\n",
    "    #first_t = soup.find('div', class_='textwidget')[1]\n",
    "    #first_t = soup.find('table')\n",
    "    #first_t = pd.read_html('table')\n",
    "   \n",
    "    print(tables_df)\n",
    "    \n",
    "    # Store data in a dictionary\n",
    "#     mars_news = {\n",
    "#         \"news_t\": third_t,\n",
    "#         \"news_p\": paragraph\n",
    "#     }\n",
    "\n",
    "    # Close the browser after scraping\n",
    "\n",
    "\n",
    "    # Return results"
   ]
  },
  {
   "cell_type": "code",
   "execution_count": 72,
   "metadata": {},
   "outputs": [
    {
     "name": "stdout",
     "output_type": "stream",
     "text": [
      "                      0                              1\n",
      "0  Equatorial Diameter:                       6,792 km\n",
      "1       Polar Diameter:                       6,752 km\n",
      "2                 Mass:  6.39 × 10^23 kg (0.11 Earths)\n",
      "3                Moons:            2 (Phobos & Deimos)\n",
      "4       Orbit Distance:       227,943,824 km (1.38 AU)\n",
      "5         Orbit Period:           687 days (1.9 years)\n",
      "6  Surface Temperature:                   -87 to -5 °C\n",
      "7         First Record:              2nd millennium BC\n",
      "8          Recorded By:           Egyptian astronomers\n"
     ]
    }
   ],
   "source": [
    "scrape_table()"
   ]
  },
  {
   "cell_type": "code",
   "execution_count": null,
   "metadata": {},
   "outputs": [],
   "source": []
  },
  {
   "cell_type": "code",
   "execution_count": null,
   "metadata": {},
   "outputs": [],
   "source": []
  }
 ],
 "metadata": {
  "kernelspec": {
   "display_name": "Python 3",
   "language": "python",
   "name": "python3"
  },
  "language_info": {
   "codemirror_mode": {
    "name": "ipython",
    "version": 3
   },
   "file_extension": ".py",
   "mimetype": "text/x-python",
   "name": "python",
   "nbconvert_exporter": "python",
   "pygments_lexer": "ipython3",
   "version": "3.6.10"
  }
 },
 "nbformat": 4,
 "nbformat_minor": 4
}
