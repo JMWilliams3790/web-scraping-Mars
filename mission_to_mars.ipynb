{
 "cells": [
  {
   "cell_type": "code",
   "execution_count": 1,
   "metadata": {},
   "outputs": [],
   "source": [
    "#Perform Imports\n",
    "from splinter import Browser\n",
    "from bs4 import BeautifulSoup as bs\n",
    "import time\n",
    "from pprint import pprint\n",
    "import pandas as pd"
   ]
  },
  {
   "cell_type": "code",
   "execution_count": 2,
   "metadata": {},
   "outputs": [],
   "source": [
    "def init_browser():\n",
    "    executable_path = {\"executable_path\": \"C:/Users/JMWil/Desktop/Bootcamp/chromedriver\"}\n",
    "    return Browser(\"chrome\", **executable_path, headless=False)\n"
   ]
  },
  {
   "cell_type": "code",
   "execution_count": 3,
   "metadata": {},
   "outputs": [],
   "source": [
    "######################\n",
    "#Scrape the news page#\n",
    "######################\n",
    "def scrape_news():\n",
    "    browser = init_browser()\n",
    "\n",
    "    # Visit Nasa Mars News Page\n",
    "    url = \"https://mars.nasa.gov/news/\"\n",
    "    browser.visit(url)\n",
    "\n",
    "    time.sleep(1)\n",
    "\n",
    "    # Scrape page into Soup\n",
    "    html = browser.html\n",
    "    soup = bs(html, \"html.parser\")\n",
    "\n",
    "    # Walk down the HTML tree\n",
    "    first_t = soup.find('ul', class_='item_list')\n",
    "    second_t = first_t.find('li', class_='slide')\n",
    "    third_t = second_t.find('div', class_='content_title').get_text()\n",
    "    paragraph = second_t.find('div', class_='article_teaser_body').get_text()\n",
    "\n",
    "    # Store data in a dictionary\n",
    "    mars_news = {\n",
    "        \"news_t\": third_t,\n",
    "        \"news_p\": paragraph\n",
    "    }\n",
    "\n",
    "    # Close the browser after scraping\n",
    "    browser.quit()\n",
    "\n",
    "    # Return results\n",
    "    return mars_news\n"
   ]
  },
  {
   "cell_type": "code",
   "execution_count": 4,
   "metadata": {},
   "outputs": [
    {
     "data": {
      "text/plain": [
       "{'news_t': 'NASA Moves Forward With Campaign to Return Mars Samples to Earth',\n",
       " 'news_p': 'During this next phase, the program will mature critical technologies and make critical design decisions as well as assess industry partnerships.'}"
      ]
     },
     "execution_count": 4,
     "metadata": {},
     "output_type": "execute_result"
    }
   ],
   "source": [
    "scrape_news()"
   ]
  },
  {
   "cell_type": "code",
   "execution_count": null,
   "metadata": {},
   "outputs": [],
   "source": []
  },
  {
   "cell_type": "code",
   "execution_count": 40,
   "metadata": {},
   "outputs": [],
   "source": [
    "###########################\n",
    "#Scrape the featured image#\n",
    "###########################\n",
    "def scrape_image():\n",
    "    browser = init_browser()\n",
    "\n",
    "    # Visit Nasa Mars News Page\n",
    "    url = \"https://www.jpl.nasa.gov/spaceimages/?search=&category=Mars\"\n",
    "    browser.visit(url)\n",
    "\n",
    "    time.sleep(1)\n",
    "\n",
    "    # Scrape page into Soup\n",
    "    html = browser.html\n",
    "    soup = bs(html, \"html.parser\")\n",
    "\n",
    "    # Walk down the HTML tree\n",
    "    first_i = soup.find('div', id=\"main_container\")\n",
    "    second_i = first_i.find('footer')\n",
    "    third_i = second_i.find('a', class_='fancybox')['data-link']\n",
    "    fourth_i = \"https://www.jpl.nasa.gov\" + third_i\n",
    "    browser.visit(fourth_i)\n",
    "    time.sleep(1)\n",
    "    html = browser.html\n",
    "    soup = bs(html, \"html.parser\")\n",
    "    fifth_i = soup.find('img', class_='main_image')['src']\n",
    "    featured_image_url = f\"https://www.jpl.nasa.gov{fifth_i}\"\n",
    "\n",
    "    featured_image_dict = {\n",
    "    \"featured_image_url\": featured_image_url,\n",
    "    }\n",
    "\n",
    "    # Close the browser after scraping\n",
    "    browser.quit()\n",
    "\n",
    "    # Return results\n",
    "    return featured_image_dict"
   ]
  },
  {
   "cell_type": "code",
   "execution_count": 41,
   "metadata": {},
   "outputs": [
    {
     "data": {
      "text/plain": [
       "{'featured_image_url': 'https://www.jpl.nasa.gov/spaceimages/images/largesize/PIA17563_hires.jpg'}"
      ]
     },
     "execution_count": 41,
     "metadata": {},
     "output_type": "execute_result"
    }
   ],
   "source": [
    "#You NEED to call the function to print ANYTHING!!!\n",
    "scrape_image()"
   ]
  },
  {
   "cell_type": "code",
   "execution_count": 19,
   "metadata": {},
   "outputs": [],
   "source": [
    "#######################\n",
    "#Scrape the Mars facts#\n",
    "#######################\n",
    "def scrape_table():\n",
    "     # Visit Nasa Mars Facts Page\n",
    "    url = \"https://space-facts.com/mars/\"\n",
    "\n",
    "    tables = pd.read_html(url)\n",
    "    \n",
    "    tables_df = tables[0]\n",
    "    tables_df = tables_df.to_html()\n",
    "\n",
    "    hemi_dict = {\n",
    "    \"table_html\": tables_df,\n",
    "    }\n",
    "    \n",
    "    \n",
    "\n",
    "    # Return results\n",
    "    return hemi_dict"
   ]
  },
  {
   "cell_type": "code",
   "execution_count": 20,
   "metadata": {},
   "outputs": [
    {
     "data": {
      "text/plain": [
       "{'table_html': '<table border=\"1\" class=\"dataframe\">\\n  <thead>\\n    <tr style=\"text-align: right;\">\\n      <th></th>\\n      <th>0</th>\\n      <th>1</th>\\n    </tr>\\n  </thead>\\n  <tbody>\\n    <tr>\\n      <th>0</th>\\n      <td>Equatorial Diameter:</td>\\n      <td>6,792 km</td>\\n    </tr>\\n    <tr>\\n      <th>1</th>\\n      <td>Polar Diameter:</td>\\n      <td>6,752 km</td>\\n    </tr>\\n    <tr>\\n      <th>2</th>\\n      <td>Mass:</td>\\n      <td>6.39 × 10^23 kg (0.11 Earths)</td>\\n    </tr>\\n    <tr>\\n      <th>3</th>\\n      <td>Moons:</td>\\n      <td>2 (Phobos &amp; Deimos)</td>\\n    </tr>\\n    <tr>\\n      <th>4</th>\\n      <td>Orbit Distance:</td>\\n      <td>227,943,824 km (1.38 AU)</td>\\n    </tr>\\n    <tr>\\n      <th>5</th>\\n      <td>Orbit Period:</td>\\n      <td>687 days (1.9 years)</td>\\n    </tr>\\n    <tr>\\n      <th>6</th>\\n      <td>Surface Temperature:</td>\\n      <td>-87 to -5 °C</td>\\n    </tr>\\n    <tr>\\n      <th>7</th>\\n      <td>First Record:</td>\\n      <td>2nd millennium BC</td>\\n    </tr>\\n    <tr>\\n      <th>8</th>\\n      <td>Recorded By:</td>\\n      <td>Egyptian astronomers</td>\\n    </tr>\\n  </tbody>\\n</table>'}"
      ]
     },
     "execution_count": 20,
     "metadata": {},
     "output_type": "execute_result"
    }
   ],
   "source": [
    "scrape_table()"
   ]
  },
  {
   "cell_type": "code",
   "execution_count": 48,
   "metadata": {},
   "outputs": [],
   "source": [
    "##################################\n",
    "#Scrape the hemisphere image page#\n",
    "##################################\n",
    "def scrape_hemi():\n",
    "    browser = init_browser()\n",
    "\n",
    "    # Visit Nasa Mars News Page\n",
    "    url = \"https://astrogeology.usgs.gov/search/results?q=hemisphere+enhanced&k1=target&v1=Mars\"\n",
    "    browser.visit(url)\n",
    "\n",
    "    time.sleep(1)\n",
    "\n",
    "    # Scrape page into Soup\n",
    "    html = browser.html\n",
    "    soup = bs(html, \"html.parser\")\n",
    "\n",
    "    store_hemi_list = []\n",
    "    hemisphere_list = [\"Cerberus Hemisphere Enhanced\",\n",
    "        \"Schiaparelli Hemisphere Enhanced\",\n",
    "        \"Syrtis Major Hemisphere Enhanced\",\n",
    "        \"Valles Marineris Hemisphere Enhanced\"\n",
    "    ]\n",
    "    \n",
    "    \n",
    "    \n",
    "    for hemisphere in hemisphere_list:\n",
    "        browser.links.find_by_partial_text(hemisphere).click()\n",
    "        \n",
    "        time.sleep(1)\n",
    "        \n",
    "        # Scrape page into Soup\n",
    "        html = browser.html\n",
    "        soup = bs(html, \"html.parser\")\n",
    "        title = soup.find('h2').get_text()\n",
    "        find = soup.find(\"div\", class_=\"downloads\")\n",
    "        find_2 = find.find('a')\n",
    "        img_url = find_2['href']\n",
    "        \n",
    "        \n",
    "        browser.back()\n",
    "    # Store data in a dictionary\n",
    "        hemi_dict = {\n",
    "            \"title\": title,\n",
    "            \"img_url\": img_url\n",
    "        }\n",
    "        store_hemi_list.append(hemi_dict)\n",
    "    # Close the browser after scraping\n",
    "    browser.quit()\n",
    "\n",
    "    # Return results\n",
    "    return store_hemi_list\n"
   ]
  },
  {
   "cell_type": "code",
   "execution_count": 49,
   "metadata": {},
   "outputs": [
    {
     "data": {
      "text/plain": [
       "[{'title': 'Cerberus Hemisphere Enhanced',\n",
       "  'img_url': 'https://astropedia.astrogeology.usgs.gov/download/Mars/Viking/cerberus_enhanced.tif/full.jpg'},\n",
       " {'title': 'Schiaparelli Hemisphere Enhanced',\n",
       "  'img_url': 'https://astropedia.astrogeology.usgs.gov/download/Mars/Viking/schiaparelli_enhanced.tif/full.jpg'},\n",
       " {'title': 'Syrtis Major Hemisphere Enhanced',\n",
       "  'img_url': 'https://astropedia.astrogeology.usgs.gov/download/Mars/Viking/syrtis_major_enhanced.tif/full.jpg'},\n",
       " {'title': 'Valles Marineris Hemisphere Enhanced',\n",
       "  'img_url': 'https://astropedia.astrogeology.usgs.gov/download/Mars/Viking/valles_marineris_enhanced.tif/full.jpg'}]"
      ]
     },
     "execution_count": 49,
     "metadata": {},
     "output_type": "execute_result"
    }
   ],
   "source": [
    "scrape_hemi()"
   ]
  },
  {
   "cell_type": "raw",
   "metadata": {},
   "source": []
  },
  {
   "cell_type": "code",
   "execution_count": null,
   "metadata": {},
   "outputs": [],
   "source": []
  }
 ],
 "metadata": {
  "kernelspec": {
   "display_name": "Python 3",
   "language": "python",
   "name": "python3"
  },
  "language_info": {
   "codemirror_mode": {
    "name": "ipython",
    "version": 3
   },
   "file_extension": ".py",
   "mimetype": "text/x-python",
   "name": "python",
   "nbconvert_exporter": "python",
   "pygments_lexer": "ipython3",
   "version": "3.6.10"
  }
 },
 "nbformat": 4,
 "nbformat_minor": 4
}
